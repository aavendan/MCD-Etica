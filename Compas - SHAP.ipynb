{
 "cells": [
  {
   "cell_type": "code",
   "execution_count": null,
   "id": "15d87665",
   "metadata": {},
   "outputs": [],
   "source": [
    "import pandas as pd\n",
    "pd.options.mode.chained_assignment = None  # default='warn'\n",
    "\n",
    "import matplotlib.pyplot as plt\n",
    "import numpy as np\n",
    "\n",
    "from sklearn.linear_model import LogisticRegression\n",
    "from sklearn.model_selection import train_test_split\n",
    "from sklearn.metrics import confusion_matrix\n",
    "from sklearn.metrics import classification_report\n",
    "from sklearn.feature_extraction.text import TfidfVectorizer\n",
    "\n",
    "from lime import lime_tabular\n",
    "\n",
    "import statsmodels.api as sm\n",
    "\n",
    "import math\n",
    "import random\n",
    "\n",
    "import shap"
   ]
  },
  {
   "cell_type": "code",
   "execution_count": null,
   "id": "f573a5ba",
   "metadata": {},
   "outputs": [],
   "source": [
    "df = pd.read_csv('./dataset/df2.csv')"
   ]
  },
  {
   "cell_type": "code",
   "execution_count": null,
   "id": "8128c876",
   "metadata": {},
   "outputs": [],
   "source": [
    "df"
   ]
  },
  {
   "cell_type": "code",
   "execution_count": null,
   "id": "10e76af0",
   "metadata": {},
   "outputs": [],
   "source": [
    "formula = 'score_factor ~ Q(\"priors_count\") + Q(\"two_year_recid\") + Q(\"crime_factor\") + Q(\"age_cat_25 - 45\") + Q(\"age_cat_Greater than 45\") + Q(\"age_cat_Less than 25\") + Q(\"race_African-American\") + Q(\"race_Asian\") + Q(\"race_Caucasian\") + Q(\"race_Hispanic\") + Q(\"race_Native American\") + Q(\"race_Other\") + Q(\"sex_Female\") + Q(\"sex_Male\")'"
   ]
  },
  {
   "cell_type": "code",
   "execution_count": null,
   "id": "d165461c",
   "metadata": {},
   "outputs": [],
   "source": [
    "modelo = sm.GLM.from_formula(formula, family=sm.families.Binomial(), data=df)\n",
    "resultado = modelo.fit()\n",
    "resultado.summary()"
   ]
  },
  {
   "cell_type": "markdown",
   "id": "32daca4e",
   "metadata": {},
   "source": [
    "# Interpretabilidad"
   ]
  },
  {
   "cell_type": "markdown",
   "id": "96230fba",
   "metadata": {},
   "source": [
    "La interpretabilidad es el grado en que un ser humano puede comprender la causa de una decisión. También se puede definir como el grado en que un ser humano puede predecir consistentemente el resultado del modelo. [Interpretability](https://christophm.github.io/interpretable-ml-book/interpretability.html)\n",
    "\n",
    "En [Explainable AI: An illuminator in the field of black-box machine learning](https://towardsdatascience.com/explainable-ai-an-illuminator-in-the-field-of-black-box-machine-learning-62d805d54a7a) se explican brevemente algunos métodos. Para mayor detalle, [Molnar](https://christophm.github.io/interpretable-ml-book/index.html) describen más métodos de interpretación de modelos."
   ]
  },
  {
   "cell_type": "markdown",
   "id": "5f47313d",
   "metadata": {},
   "source": [
    "## SHAP"
   ]
  },
  {
   "cell_type": "markdown",
   "id": "fadf1e5f",
   "metadata": {},
   "source": [
    "SHAP tiene basado en la teoría de juegos cooperativos que vienen con propiedades deseables. [An introduction to explainable AI with Shapley values](https://shap.readthedocs.io/en/latest/example_notebooks/overviews/An%20introduction%20to%20explainable%20AI%20with%20Shapley%20values.html)"
   ]
  },
  {
   "cell_type": "code",
   "execution_count": null,
   "id": "6a08c640",
   "metadata": {},
   "outputs": [],
   "source": [
    "etiquetasX = ['priors_count', 'two_year_recid', 'crime_factor', 'age_cat_25 - 45',\n",
    "       'age_cat_Greater than 45', 'age_cat_Less than 25',\n",
    "       'race_African-American', 'race_Asian', 'race_Caucasian',\n",
    "       'race_Hispanic', 'race_Native American', 'race_Other', 'sex_Female',\n",
    "       'sex_Male']\n",
    "etiquetaY = ['score_factor']"
   ]
  },
  {
   "cell_type": "code",
   "execution_count": null,
   "id": "cd6467fb",
   "metadata": {},
   "outputs": [],
   "source": [
    "X = df[etiquetasX].to_numpy()\n",
    "Y = df[etiquetaY].to_numpy()"
   ]
  },
  {
   "cell_type": "code",
   "execution_count": null,
   "id": "953b07fd",
   "metadata": {},
   "outputs": [],
   "source": [
    "X_train, X_test, Y_train, Y_test = train_test_split(X, Y, train_size=0.90, test_size=0.1, stratify=Y, random_state=123)"
   ]
  },
  {
   "cell_type": "code",
   "execution_count": null,
   "id": "28483ae5",
   "metadata": {},
   "outputs": [],
   "source": [
    "lr = LogisticRegression()\n",
    "\n",
    "lr.fit(X_train, Y_train)"
   ]
  },
  {
   "cell_type": "markdown",
   "id": "8b759cf7",
   "metadata": {},
   "source": [
    "## Explicación del modelo "
   ]
  },
  {
   "cell_type": "code",
   "execution_count": null,
   "id": "748de09d",
   "metadata": {},
   "outputs": [],
   "source": [
    "explainer = shap.Explainer(lr, X_train, feature_names=etiquetasX)\n",
    "shap_values = explainer(X_test)"
   ]
  },
  {
   "cell_type": "markdown",
   "id": "c2e4b718",
   "metadata": {},
   "source": [
    "### Barras (bars)"
   ]
  },
  {
   "cell_type": "code",
   "execution_count": null,
   "id": "68149a18",
   "metadata": {},
   "outputs": [],
   "source": [
    "shap.plots.bar(shap_values.abs.max(0))"
   ]
  },
  {
   "cell_type": "markdown",
   "id": "561af309",
   "metadata": {},
   "source": [
    "### Enjambre (beeswarm)"
   ]
  },
  {
   "cell_type": "code",
   "execution_count": null,
   "id": "3b096ca7",
   "metadata": {},
   "outputs": [],
   "source": [
    "shap.plots.beeswarm(shap_values)"
   ]
  },
  {
   "cell_type": "markdown",
   "id": "281e99f5",
   "metadata": {},
   "source": [
    "## Explicación de una instancia"
   ]
  },
  {
   "cell_type": "markdown",
   "id": "6fd4b0b6",
   "metadata": {},
   "source": [
    "### Cascada (waterfall)"
   ]
  },
  {
   "cell_type": "code",
   "execution_count": null,
   "id": "b09f27ed",
   "metadata": {},
   "outputs": [],
   "source": [
    "shap.plots.waterfall(shap_values[0], max_display=14)"
   ]
  },
  {
   "cell_type": "markdown",
   "id": "38072956",
   "metadata": {},
   "source": [
    "## Referencias\n",
    "\n",
    "Molnar, C. (2022). Interpretable Machine Learning. Retrieved 18 February 2022, from https://christophm.github.io/interpretable-ml-book/index.html\n",
    "\n",
    "An introduction to explainable AI with Shapley values — SHAP latest documentation. (2022). Retrieved 18 February 2022, from https://shap.readthedocs.io/en/latest/example_notebooks/overviews/An%20introduction%20to%20explainable%20AI%20with%20Shapley%20values.html\n",
    "\n",
    "Explainable AI: An illuminator in the field of black-box machine learning. (2021). Retrieved 18 February 2022, from https://towardsdatascience.com/explainable-ai-an-illuminator-in-the-field-of-black-box-machine-learning-62d805d54a7a"
   ]
  }
 ],
 "metadata": {
  "kernelspec": {
   "display_name": "Python 3 (ipykernel)",
   "language": "python",
   "name": "python3"
  },
  "language_info": {
   "codemirror_mode": {
    "name": "ipython",
    "version": 3
   },
   "file_extension": ".py",
   "mimetype": "text/x-python",
   "name": "python",
   "nbconvert_exporter": "python",
   "pygments_lexer": "ipython3",
   "version": "3.9.7"
  }
 },
 "nbformat": 4,
 "nbformat_minor": 5
}
