{
 "cells": [
  {
   "cell_type": "code",
   "execution_count": null,
   "id": "693289bc",
   "metadata": {},
   "outputs": [],
   "source": [
    "import pandas as pd\n",
    "pd.options.mode.chained_assignment = None  # default='warn'\n",
    "\n",
    "import matplotlib.pyplot as plt\n",
    "import numpy as np\n",
    "\n",
    "import statsmodels.api as sm"
   ]
  },
  {
   "cell_type": "code",
   "execution_count": null,
   "id": "ba7c19a8",
   "metadata": {},
   "outputs": [],
   "source": [
    "df = pd.read_csv('./dataset/compas-scores-two-years-filtered.csv')"
   ]
  },
  {
   "cell_type": "code",
   "execution_count": null,
   "id": "e489e24d",
   "metadata": {},
   "outputs": [],
   "source": [
    "df"
   ]
  },
  {
   "cell_type": "code",
   "execution_count": null,
   "id": "8e14de56",
   "metadata": {},
   "outputs": [],
   "source": [
    "df.shape"
   ]
  },
  {
   "cell_type": "markdown",
   "id": "078851a6",
   "metadata": {},
   "source": [
    "# **¿Cuál es la relación que existe entre las características del conjunto de datos y el `score_text` ?**"
   ]
  },
  {
   "cell_type": "markdown",
   "id": "9563df7f",
   "metadata": {},
   "source": [
    "## Transformación de características cualitativas en cuantitativas"
   ]
  },
  {
   "cell_type": "markdown",
   "id": "4ec21055",
   "metadata": {},
   "source": [
    "### Característica de salida `score_text`"
   ]
  },
  {
   "cell_type": "markdown",
   "id": "f236f237",
   "metadata": {},
   "source": [
    "Comprendamos el comportamiento de la característica objetivo: `score_text`"
   ]
  },
  {
   "cell_type": "code",
   "execution_count": null,
   "id": "43c83eaa",
   "metadata": {},
   "outputs": [],
   "source": [
    "df['score_text'].value_counts()"
   ]
  },
  {
   "cell_type": "markdown",
   "id": "8c529d13",
   "metadata": {},
   "source": [
    "La distribución de los valores de la característica `score_text` en un gráfico de barras:"
   ]
  },
  {
   "cell_type": "code",
   "execution_count": null,
   "id": "b3c427b9",
   "metadata": {},
   "outputs": [],
   "source": [
    "df['score_text'].value_counts().plot(kind='bar', ylim=(0,4000))"
   ]
  },
  {
   "cell_type": "markdown",
   "id": "3cdc8f57",
   "metadata": {},
   "source": [
    "Para equilibrar la distribución de los valores en la variable de salida, consideraremos los valores `High` y `Medium` como un solo valor. "
   ]
  },
  {
   "cell_type": "code",
   "execution_count": null,
   "id": "67f029c0",
   "metadata": {},
   "outputs": [],
   "source": [
    "df.loc[df['score_text'] != 'Low', \"score_text\"] = \"HM\""
   ]
  },
  {
   "cell_type": "code",
   "execution_count": null,
   "id": "149e1ec5",
   "metadata": {},
   "outputs": [],
   "source": [
    "df['score_text'].value_counts()"
   ]
  },
  {
   "cell_type": "markdown",
   "id": "a62268da",
   "metadata": {},
   "source": [
    "Muestre la distribución de los valores de la característica `score_text` mediante un gráfico de barras."
   ]
  },
  {
   "cell_type": "code",
   "execution_count": null,
   "id": "d333c843",
   "metadata": {},
   "outputs": [],
   "source": []
  },
  {
   "cell_type": "markdown",
   "id": "040d617a",
   "metadata": {},
   "source": [
    "### Características de entrada"
   ]
  },
  {
   "cell_type": "markdown",
   "id": "8fad3f90",
   "metadata": {},
   "source": [
    "#### Codificación de enteros (Integer encoding)\n",
    "\n",
    "Generamos una representación numérica para cada uno los valores que se encuentran en la característica `race`. Guarde el resultado en `race_factor`. Para esto, utilizaremos las funciones [factorize](https://pandas.pydata.org/docs/reference/api/pandas.factorize.html) y [assign](https://pandas.pydata.org/docs/reference/api/pandas.DataFrame.assign.html) de Pandas."
   ]
  },
  {
   "cell_type": "code",
   "execution_count": null,
   "id": "11c17db9",
   "metadata": {},
   "outputs": [],
   "source": [
    "df = df.assign(\n",
    "    race_factor  = lambda dataframe: pd.factorize(df['race'])[0],\n",
    ")"
   ]
  },
  {
   "cell_type": "markdown",
   "id": "aa4cb402",
   "metadata": {},
   "source": [
    "Una vista previa a las características `race` y `race_factor`, donde **`African-American`** toma el valor de **`1`**, **`Caucasian`** toma el valor de **`2`**, **`Hispanic`** toma el valor de **`3`**, etc."
   ]
  },
  {
   "cell_type": "code",
   "execution_count": null,
   "id": "7727c8bf",
   "metadata": {},
   "outputs": [],
   "source": [
    "df[['race', 'race_factor']].head(15)"
   ]
  },
  {
   "cell_type": "markdown",
   "id": "b5d26665",
   "metadata": {},
   "source": [
    "Genere la representación numérica para:\n",
    "\n",
    "* Asigne los resultados en `crime_factor` de la representación numérica de la característica `c_charge_degree`.\n",
    "* Asigne los resultados en `age_factor` de la representación numérica de la característica `age_cat`.\n",
    "* Asigne los resultados en `gender_factor` de la representación numérica de la característica `sex`.\n",
    "* Asigne los resultados en `score_factor` de la representación numérica de la característica `score_text`."
   ]
  },
  {
   "cell_type": "code",
   "execution_count": null,
   "id": "06722a1a",
   "metadata": {},
   "outputs": [],
   "source": []
  },
  {
   "cell_type": "markdown",
   "id": "053f2b25",
   "metadata": {},
   "source": [
    "Muestre el contenido de `df`. Revise las características generadas en el dataframe."
   ]
  },
  {
   "cell_type": "code",
   "execution_count": null,
   "id": "06b09817",
   "metadata": {},
   "outputs": [],
   "source": []
  },
  {
   "cell_type": "markdown",
   "id": "fd6ce140",
   "metadata": {},
   "source": [
    "#### **Codificación One-Hot (One-Hot Encoding)**\n",
    "\n",
    "Generamos una representación numérica por cada uno de los valores en la característica `age_cat`. Cada valor es cuantificado en una columna independiente. Los nombres de las características son automáticamente generados a partir de los valores únicos de la característica."
   ]
  },
  {
   "cell_type": "code",
   "execution_count": null,
   "id": "c82ccae5",
   "metadata": {},
   "outputs": [],
   "source": [
    "df = df.join(pd.get_dummies(df['age_cat'], prefix='age_cat'))"
   ]
  },
  {
   "cell_type": "markdown",
   "id": "3c4507b1",
   "metadata": {},
   "source": [
    "De `age_cat` se generan las características **`age_cat_Greater than 45`**,**`age_cat_25 - 45`** y **`age_cat_Less than 25`**."
   ]
  },
  {
   "cell_type": "code",
   "execution_count": null,
   "id": "f32cc29a",
   "metadata": {
    "scrolled": false
   },
   "outputs": [],
   "source": [
    "df[['age_cat','age_cat_Greater than 45','age_cat_25 - 45', 'age_cat_Less than 25']].head(15)"
   ]
  },
  {
   "cell_type": "code",
   "execution_count": null,
   "id": "9f1d977d",
   "metadata": {},
   "outputs": [],
   "source": [
    "df.head(15)"
   ]
  },
  {
   "cell_type": "markdown",
   "id": "64f4aa34",
   "metadata": {},
   "source": [
    "Genere la representación numérica para cada uno de los valores en:\n",
    "\n",
    "* La característica `race`, el prefijo es `race`.\n",
    "* La característica `sex`, el prefijo es `sex`."
   ]
  },
  {
   "cell_type": "code",
   "execution_count": null,
   "id": "14fbc7b5",
   "metadata": {},
   "outputs": [],
   "source": []
  },
  {
   "cell_type": "markdown",
   "id": "59fe5adc",
   "metadata": {},
   "source": [
    "Muestre el contenido de `df`. Revise las características generadas en el dataframe."
   ]
  },
  {
   "cell_type": "code",
   "execution_count": null,
   "id": "535bb51f",
   "metadata": {},
   "outputs": [],
   "source": []
  },
  {
   "cell_type": "markdown",
   "id": "fbe77f18",
   "metadata": {},
   "source": [
    "## Regresión Logística"
   ]
  },
  {
   "cell_type": "markdown",
   "id": "86be1e4f",
   "metadata": {},
   "source": [
    "\"La regresión logística es una técnica de clasificación compartida por el aprendizaje automático del campo de las estadísticas. La regresión logística es un método estadístico para analizar un conjunto de datos en el que hay una o más variables independientes que determinan un resultado. La intención detrás del uso de la regresión logística es encontrar el modelo que mejor se ajuste para describir la relación entre la variable dependiente y la independiente.\" [Perfect Recipe for Classification Using Logistic Regression](https://towardsdatascience.com/the-perfect-recipe-for-classification-using-logistic-regression-f8648e267592)\n",
    "\n",
    "Para la interpretación de los resultados multivariados [Interpreting Data using Statistical Models with Python](https://www.pluralsight.com/guides/interpreting-data-using-statistical-models-python) provee de una buena metodología a aplicar."
   ]
  },
  {
   "cell_type": "markdown",
   "id": "a96c7400",
   "metadata": {},
   "source": [
    "#### Modelo 1"
   ]
  },
  {
   "cell_type": "markdown",
   "id": "500acd5a",
   "metadata": {},
   "source": [
    "Las listas `x_base` y `x_integer` contienen los nombres de las columnas a usar del dataframe `df`. La lista `y` contiene el nombre de la característica de salida."
   ]
  },
  {
   "cell_type": "code",
   "execution_count": null,
   "id": "25f5d375",
   "metadata": {},
   "outputs": [],
   "source": [
    "x_base = ['priors_count','two_year_recid', 'crime_factor']\n",
    "x_integer = ['age_factor', 'race_factor', 'gender_factor']\n",
    "\n",
    "y = ['score_factor']"
   ]
  },
  {
   "cell_type": "code",
   "execution_count": null,
   "id": "d85231ff",
   "metadata": {},
   "outputs": [],
   "source": [
    "columnas1 = x_base+x_integer+y"
   ]
  },
  {
   "cell_type": "code",
   "execution_count": null,
   "id": "ce8510d5",
   "metadata": {},
   "outputs": [],
   "source": [
    "columnas1"
   ]
  },
  {
   "cell_type": "markdown",
   "id": "dbffa171",
   "metadata": {},
   "source": [
    "Guarde en `df1` el resultado de filtrar el dataframe `df` de acuerdo con `columnas1`. Muestre los 10 primeros registros del dataframe `df1`."
   ]
  },
  {
   "cell_type": "code",
   "execution_count": null,
   "id": "be8e65f9",
   "metadata": {},
   "outputs": [],
   "source": []
  },
  {
   "cell_type": "markdown",
   "id": "8d6c0b69",
   "metadata": {},
   "source": [
    "Generamos la fórmula (modelo linear) para el Generalized Logistic Model."
   ]
  },
  {
   "cell_type": "code",
   "execution_count": null,
   "id": "90793d12",
   "metadata": {},
   "outputs": [],
   "source": [
    "query_columns = [ 'Q(\"'+i+'\")' for i in x_base+x_integer ]\n",
    "\n",
    "formula = \"score_factor ~ \" + ' + '.join(query_columns)\n",
    "formula"
   ]
  },
  {
   "cell_type": "markdown",
   "id": "0809bc0e",
   "metadata": {},
   "source": [
    "Construimos el modelo y mostramos el resumen del resultado. La familia estadística que se utilizará será binomial para ajustar el modelo."
   ]
  },
  {
   "cell_type": "code",
   "execution_count": null,
   "id": "ca45b460",
   "metadata": {},
   "outputs": [],
   "source": [
    "modelo = sm.GLM.from_formula(formula, family=sm.families.Binomial(), data=df1[columnas1])\n",
    "resultado = modelo.fit()\n",
    "resultado.summary()"
   ]
  },
  {
   "cell_type": "markdown",
   "id": "ada25b0c",
   "metadata": {},
   "source": [
    "Guardamos el resultado en un nuevo archivo."
   ]
  },
  {
   "cell_type": "code",
   "execution_count": null,
   "id": "176252e5",
   "metadata": {},
   "outputs": [],
   "source": [
    "df1.to_csv('df1.csv', index=False)"
   ]
  },
  {
   "cell_type": "markdown",
   "id": "72a6a17d",
   "metadata": {},
   "source": [
    "#### Modelo 2"
   ]
  },
  {
   "cell_type": "markdown",
   "id": "9554739b",
   "metadata": {},
   "source": [
    "Las listas `x_base` y `x_onehot` contienen los nombres de las columnas a usar del dataframe `df`. La lista `y` contiene el nombre de la característica de salida."
   ]
  },
  {
   "cell_type": "code",
   "execution_count": null,
   "id": "151d68cb",
   "metadata": {},
   "outputs": [],
   "source": [
    "x_base = ['priors_count','two_year_recid', 'crime_factor']\n",
    "x_onehot = ['age_cat_25 - 45', 'age_cat_Greater than 45', 'age_cat_Less than 25',\n",
    "           'race_African-American', 'race_Asian', 'race_Caucasian','race_Hispanic','race_Native American','race_Other',\n",
    "            'sex_Female', 'sex_Male']\n",
    "\n",
    "y = ['score_factor']"
   ]
  },
  {
   "cell_type": "code",
   "execution_count": null,
   "id": "01f3f456",
   "metadata": {},
   "outputs": [],
   "source": [
    "columnas2 = x_base+x_onehot+y\n",
    "columnas2"
   ]
  },
  {
   "cell_type": "markdown",
   "id": "b718a59c",
   "metadata": {},
   "source": [
    "Guarde en `df2` el resultado de filtrar el dataframe `df` de acuerdo con `columnas2`. Muestre los 10 primeros registros del dataframe `df2`."
   ]
  },
  {
   "cell_type": "code",
   "execution_count": null,
   "id": "611d1e20",
   "metadata": {},
   "outputs": [],
   "source": []
  },
  {
   "cell_type": "markdown",
   "id": "99605697",
   "metadata": {},
   "source": [
    "Generamos la fórmula para el Generalized Logistic Model, sin incluir la característica objetivo"
   ]
  },
  {
   "cell_type": "code",
   "execution_count": null,
   "id": "d9ef472d",
   "metadata": {},
   "outputs": [],
   "source": [
    "mycolumns = [ 'Q(\"'+i+'\")' for i in x_base+x_onehot ]\n",
    "\n",
    "formula = \"score_factor ~ \" + ' + '.join(mycolumns)\n",
    "formula"
   ]
  },
  {
   "cell_type": "markdown",
   "id": "d2f17dc0",
   "metadata": {},
   "source": [
    "Construimos el modelo y mostramos el resumen del resultado"
   ]
  },
  {
   "cell_type": "code",
   "execution_count": null,
   "id": "c5802a04",
   "metadata": {},
   "outputs": [],
   "source": [
    "modelo = sm.GLM.from_formula(formula, family=sm.families.Binomial(), data=df2)\n",
    "resultado = modelo.fit()\n",
    "resultado.summary()"
   ]
  },
  {
   "cell_type": "markdown",
   "id": "f16d1893",
   "metadata": {},
   "source": [
    "Guarde el resultado en un nuevo archivo."
   ]
  },
  {
   "cell_type": "code",
   "execution_count": null,
   "id": "de2a6eb3",
   "metadata": {},
   "outputs": [],
   "source": []
  },
  {
   "cell_type": "markdown",
   "id": "ce16b972",
   "metadata": {},
   "source": [
    "## Referencias\n",
    "\n",
    "The Perfect Recipe for Classification Using Logistic Regression. (2021). Retrieved 18 February 2022, from https://towardsdatascience.com/the-perfect-recipe-for-classification-using-logistic-regression-f8648e267592\n",
    "\n",
    "Singh, D., & Python, I. (2022). Interpreting Data using Statistical Models with Python | Pluralsight. Retrieved 18 February 2022, from https://www.pluralsight.com/guides/interpreting-data-using-statistical-models-python\n",
    "\n",
    "Building A Logistic Regression in Python, Step by Step. (2019). Retrieved 18 February 2022, from https://towardsdatascience.com/building-a-logistic-regression-in-python-step-by-step-becd4d56c9c8"
   ]
  }
 ],
 "metadata": {
  "kernelspec": {
   "display_name": "Python 3 (ipykernel)",
   "language": "python",
   "name": "python3"
  },
  "language_info": {
   "codemirror_mode": {
    "name": "ipython",
    "version": 3
   },
   "file_extension": ".py",
   "mimetype": "text/x-python",
   "name": "python",
   "nbconvert_exporter": "python",
   "pygments_lexer": "ipython3",
   "version": "3.9.7"
  }
 },
 "nbformat": 4,
 "nbformat_minor": 5
}
