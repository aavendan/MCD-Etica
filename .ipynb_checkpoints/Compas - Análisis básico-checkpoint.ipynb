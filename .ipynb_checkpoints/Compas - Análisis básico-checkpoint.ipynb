{
 "cells": [
  {
   "cell_type": "markdown",
   "id": "5435869b",
   "metadata": {},
   "source": [
    "# COMPAS Recidivism Algorithm\n",
    "\n",
    "COMPAS (Correctional Offender Management Profiling for Alternative Sanctions) es una herramienta de Northpointe, que evalúa la probabilidad de que un acusado de un delito se convierta en reincidente.\n",
    "\n",
    "Propublica realiza un [análisis](https://www.propublica.org/article/machine-bias-risk-assessments-in-criminal-sentencing) en el que se propone a descubrir la precisión subyacente de su algoritmo de reincidencia y probar si el algoritmo estaba sesgado contra ciertos grupos. \n",
    "\n",
    "Los [resultados](https://www.propublica.org/article/how-we-analyzed-the-compas-recidivism-algorithm) demuestran que los acusados de raza negra tenían muchas más probabilidades que los acusados caucásicos de ser juzgados incorrectamente con un mayor riesgo de reincidencia, mientras que los acusados blancos tenían más probabilidades que los acusados de raza negra de ser marcados incorrectamente como de bajo riesgo.\n",
    "\n",
    "El conjunto de datos está disponible en [Github](https://github.com/propublica/compas-analysis) y en [Kaggle](https://www.kaggle.com/danofer/compass)."
   ]
  },
  {
   "cell_type": "code",
   "execution_count": null,
   "id": "c2b9ffc3",
   "metadata": {},
   "outputs": [],
   "source": [
    "import pandas as pd\n",
    "pd.options.mode.chained_assignment = None  # default='warn'\n",
    "\n",
    "import matplotlib.pyplot as plt\n",
    "import numpy as np"
   ]
  },
  {
   "cell_type": "code",
   "execution_count": null,
   "id": "d49e71dc",
   "metadata": {},
   "outputs": [],
   "source": [
    "df = pd.read_csv('./dataset/compas-scores-two-years.csv')"
   ]
  },
  {
   "cell_type": "code",
   "execution_count": null,
   "id": "e85d7b22",
   "metadata": {},
   "outputs": [],
   "source": [
    "df"
   ]
  },
  {
   "cell_type": "code",
   "execution_count": null,
   "id": "8995de90",
   "metadata": {},
   "outputs": [],
   "source": [
    "filas, columnas = df.shape\n",
    "nombre_columnas = df.columns"
   ]
  },
  {
   "cell_type": "markdown",
   "id": "3c8d1a35",
   "metadata": {},
   "source": [
    "Muestre el total de acusados (`filas`), el total de características (`columnas`) y los nombres de las características (`nombre_columnas`)"
   ]
  },
  {
   "cell_type": "code",
   "execution_count": null,
   "id": "c7ac110b",
   "metadata": {},
   "outputs": [],
   "source": []
  },
  {
   "cell_type": "markdown",
   "id": "850cf380",
   "metadata": {},
   "source": [
    "## Selección de columnas"
   ]
  },
  {
   "cell_type": "code",
   "execution_count": null,
   "id": "3bc86380",
   "metadata": {},
   "outputs": [],
   "source": [
    "columnas = ['age', 'c_charge_degree', 'race', 'age_cat', 'score_text', 'sex', 'priors_count', \n",
    " 'days_b_screening_arrest', 'decile_score', 'is_recid', 'two_year_recid', 'c_jail_in', 'c_jail_out']"
   ]
  },
  {
   "cell_type": "markdown",
   "id": "d368e78f",
   "metadata": {},
   "source": [
    "Filtre el dataframe `df` para seleccionar las columnas que se encuentran en `columnas`. Guarde el resultado en la variable df2."
   ]
  },
  {
   "cell_type": "code",
   "execution_count": null,
   "id": "97003570",
   "metadata": {},
   "outputs": [],
   "source": []
  },
  {
   "cell_type": "markdown",
   "id": "20c5f260",
   "metadata": {},
   "source": [
    "Muestre el dataframe `df2`."
   ]
  },
  {
   "cell_type": "code",
   "execution_count": null,
   "id": "8f1cbc75",
   "metadata": {},
   "outputs": [],
   "source": []
  },
  {
   "cell_type": "markdown",
   "id": "26fb7f0c",
   "metadata": {},
   "source": [
    "## Limpieza de datos\n",
    "\n",
    "Solo debemos considerar los registros que:\n",
    "\n",
    "* La fecha del registro del cargo se realiza dentro de 30 días desde que la persona fue arrestada, caso contrario no existe certeza que el tipo del cargo sea el correcto. Los valores de la columna `days_b_screening_arrest` deben estar entre -30 y 30.\n",
    "\n",
    "Sobreescriba los resultados en df2\n"
   ]
  },
  {
   "cell_type": "code",
   "execution_count": null,
   "id": "5d3a8e34",
   "metadata": {},
   "outputs": [],
   "source": [
    "df2 = df2[df2['days_b_screening_arrest'] <= 30]"
   ]
  },
  {
   "cell_type": "markdown",
   "id": "16538e12",
   "metadata": {},
   "source": [
    "* Utilice `df2` para filtrar los datos cuyos valores `days_b_screening_arrest` sean mayores o iguales a -30. Sobreescriba la variable `df2`."
   ]
  },
  {
   "cell_type": "code",
   "execution_count": null,
   "id": "faf8d7e0",
   "metadata": {},
   "outputs": [],
   "source": []
  },
  {
   "cell_type": "markdown",
   "id": "238d3068",
   "metadata": {},
   "source": [
    "* Utilice `df2` para filtrar los datos cuyos valores `c_charge_degree` sean diferentes de '0'. Sobreescriba la variable `df2`."
   ]
  },
  {
   "cell_type": "code",
   "execution_count": null,
   "id": "40590440",
   "metadata": {},
   "outputs": [],
   "source": []
  },
  {
   "cell_type": "markdown",
   "id": "cfe35c07",
   "metadata": {},
   "source": [
    "* Utilice `df2` para filtrar los datos con `score_text` diferente de `N/A`. Sobreescriba la variable `df2`."
   ]
  },
  {
   "cell_type": "code",
   "execution_count": null,
   "id": "f9da836e",
   "metadata": {},
   "outputs": [],
   "source": []
  },
  {
   "cell_type": "markdown",
   "id": "d6465b11",
   "metadata": {},
   "source": [
    "* Obtenga y muestre el nuevo total de acusados luego de la limpieza de datos."
   ]
  },
  {
   "cell_type": "code",
   "execution_count": null,
   "id": "c735340f",
   "metadata": {},
   "outputs": [],
   "source": []
  },
  {
   "cell_type": "markdown",
   "id": "3103046a",
   "metadata": {},
   "source": [
    "## Exploración de datos\n",
    "\n",
    "Haremos un análisis descriptivo de ciertas variables, para esto haremos un conteo simple de valores únicos."
   ]
  },
  {
   "cell_type": "markdown",
   "id": "2a0d03d6",
   "metadata": {},
   "source": [
    "Muestre la columna `age_cat` del dataframe `df2`."
   ]
  },
  {
   "cell_type": "code",
   "execution_count": null,
   "id": "04a1609d",
   "metadata": {},
   "outputs": [],
   "source": [
    "df2['age_cat']"
   ]
  },
  {
   "cell_type": "markdown",
   "id": "aa5a7958",
   "metadata": {},
   "source": [
    "¿Cuántos y cuáles son los valores únicos tiene la columna `age_cat`?"
   ]
  },
  {
   "cell_type": "code",
   "execution_count": null,
   "id": "7a11c5f7",
   "metadata": {},
   "outputs": [],
   "source": [
    "df2['age_cat'].unique()"
   ]
  },
  {
   "cell_type": "markdown",
   "id": "4c259149",
   "metadata": {},
   "source": [
    "¿Cuántos acusados están entre `25 - 45`, `Less than 25` y `Greater than 45`? "
   ]
  },
  {
   "cell_type": "code",
   "execution_count": null,
   "id": "d4719f53",
   "metadata": {},
   "outputs": [],
   "source": [
    "df2[\"age_cat\"].value_counts()"
   ]
  },
  {
   "cell_type": "code",
   "execution_count": null,
   "id": "8d9296a3",
   "metadata": {},
   "outputs": [],
   "source": [
    "print('Porcentajes por grupo etarios')\n",
    "\n",
    "filas, columnas = df2.shape\n",
    "\n",
    "df2[\"age_cat\"].value_counts()*100/filas"
   ]
  },
  {
   "cell_type": "markdown",
   "id": "649853d1",
   "metadata": {},
   "source": [
    "Realice el [conteo de valores únicos](https://pandas.pydata.org/docs/getting_started/intro_tutorials/06_calculate_statistics.html) para las columnas `race` y `sex`.\n",
    "\n",
    "* Utilice la columna `race`, ¿Cuántos acusados se identifican como `African-American`, `Hispanic` o `Caucasian`?\n",
    "* Utilice la columna `sex`, ¿Cuántos acusados se identifican como  `Female` o `Male`?"
   ]
  },
  {
   "cell_type": "code",
   "execution_count": null,
   "id": "b2597011",
   "metadata": {},
   "outputs": [],
   "source": [
    " "
   ]
  },
  {
   "cell_type": "code",
   "execution_count": null,
   "id": "22d236d1",
   "metadata": {},
   "outputs": [],
   "source": []
  },
  {
   "cell_type": "code",
   "execution_count": null,
   "id": "09d6a343",
   "metadata": {},
   "outputs": [],
   "source": []
  },
  {
   "cell_type": "markdown",
   "id": "d216b372",
   "metadata": {},
   "source": [
    "Realice la [tabulación cruzada](https://www.geeksforgeeks.org/pandas-crosstab-function-in-python/) entre las columnas `sex` y `race`.\n",
    "\n",
    "* Utilice las columnas `sex` y `race`, ¿Cuántos acusados son `Female` - `African-American`, `Male` - `Caucasian`, `Female` - `Hispanic` y `Male` - `Hispanic` ?"
   ]
  },
  {
   "cell_type": "code",
   "execution_count": null,
   "id": "bc99b307",
   "metadata": {},
   "outputs": [],
   "source": []
  },
  {
   "cell_type": "markdown",
   "id": "4a303417",
   "metadata": {},
   "source": [
    "¿Cuál es la correlación entre el puntaje en el decil (`decile_score`) y el tiempo de estadía en cárcel (`c_jail_out` y `c_jail_in`)?"
   ]
  },
  {
   "cell_type": "code",
   "execution_count": null,
   "id": "9ca31548",
   "metadata": {},
   "outputs": [],
   "source": [
    "difference = pd.to_datetime(df2['c_jail_out']) - pd.to_datetime(df2['c_jail_in']) \n",
    "df2['length_of_stay'] = (difference).astype('timedelta64[h]')"
   ]
  },
  {
   "cell_type": "code",
   "execution_count": null,
   "id": "40b19b9d",
   "metadata": {},
   "outputs": [],
   "source": [
    "df2['length_of_stay'].corr(df2['decile_score'])"
   ]
  },
  {
   "cell_type": "markdown",
   "id": "5c773f56",
   "metadata": {},
   "source": [
    "## Sesgo racial\n",
    "\n",
    "Los juecen reciben dos puntajes del sistema Compas: uno que clasifica a las personas en riesgo (`score_text`, con valores 'High', 'Medium' y 'Low'), y el puntaje en deciles (`decile_score`, del 1 al 10 - más peligroso)."
   ]
  },
  {
   "cell_type": "markdown",
   "id": "67958ac5",
   "metadata": {},
   "source": [
    "**¿Cuál es la tendencia en el puntaje en deciles (`decile_score`) para la raza `African-American`?**"
   ]
  },
  {
   "cell_type": "markdown",
   "id": "e7b8d79d",
   "metadata": {},
   "source": [
    "* Utilice `df2` para filtrar los datos de la columna `race` cuyos valores sean iguales `African-American`.\n",
    "* Cuente los valores únicos para la columna `decile_score` \n",
    "* Muestre los resultados con un [gráfico de barras](https://queirozf.com/entries/pandas-dataframe-plot-examples-with-matplotlib-pyplot) de los resultados anteriores.  **Nota:** Coloque en la configuración del plot _kind='bar'_ y _ylim=(0,650)_"
   ]
  },
  {
   "cell_type": "code",
   "execution_count": null,
   "id": "349577d5",
   "metadata": {},
   "outputs": [],
   "source": [
    "dfraceAA = df2[df2['race'] == 'African-American']"
   ]
  },
  {
   "cell_type": "code",
   "execution_count": null,
   "id": "322bf8e4",
   "metadata": {},
   "outputs": [],
   "source": [
    "results = dfraceAA['decile_score'].value_counts()"
   ]
  },
  {
   "cell_type": "code",
   "execution_count": null,
   "id": "591cff5f",
   "metadata": {},
   "outputs": [],
   "source": [
    "results.plot(kind='bar', ylim = (0, 650))"
   ]
  },
  {
   "cell_type": "markdown",
   "id": "8c3d5255",
   "metadata": {},
   "source": [
    " **¿Cuál es la tendencia en el puntaje en deciles (`decile_score`) para la raza  `Caucasian`?**"
   ]
  },
  {
   "cell_type": "code",
   "execution_count": null,
   "id": "889da86b",
   "metadata": {},
   "outputs": [],
   "source": []
  },
  {
   "cell_type": "markdown",
   "id": "1b4b556b",
   "metadata": {},
   "source": [
    "## Referencias\n",
    "\n",
    "Machine Bias. (2016). Retrieved 18 February 2022, from https://www.propublica.org/article/machine-bias-risk-assessments-in-criminal-sentencing\n",
    "\n",
    "How We Analyzed the COMPAS Recidivism Algorithm. (2016). Retrieved 18 February 2022, from https://www.propublica.org/article/how-we-analyzed-the-compas-recidivism-algorithm\n",
    "\n",
    "GitHub - propublica/compas-analysis: Data and analysis for 'Machine Bias'. (2022). Retrieved 18 February 2022, from https://github.com/propublica/compas-analysis"
   ]
  }
 ],
 "metadata": {
  "kernelspec": {
   "display_name": "Python 3 (ipykernel)",
   "language": "python",
   "name": "python3"
  },
  "language_info": {
   "codemirror_mode": {
    "name": "ipython",
    "version": 3
   },
   "file_extension": ".py",
   "mimetype": "text/x-python",
   "name": "python",
   "nbconvert_exporter": "python",
   "pygments_lexer": "ipython3",
   "version": "3.9.7"
  }
 },
 "nbformat": 4,
 "nbformat_minor": 5
}
